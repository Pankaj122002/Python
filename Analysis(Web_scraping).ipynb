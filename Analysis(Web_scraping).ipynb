{
  "nbformat": 4,
  "nbformat_minor": 0,
  "metadata": {
    "colab": {
      "provenance": [],
      "authorship_tag": "ABX9TyPg2SnQEiw1feUIURF98C8b",
      "include_colab_link": true
    },
    "kernelspec": {
      "name": "python3",
      "display_name": "Python 3"
    },
    "language_info": {
      "name": "python"
    }
  },
  "cells": [
    {
      "cell_type": "markdown",
      "metadata": {
        "id": "view-in-github",
        "colab_type": "text"
      },
      "source": [
        "<a href=\"https://colab.research.google.com/github/Pankaj122002/Python/blob/main/Analysis(Web_scraping).ipynb\" target=\"_parent\"><img src=\"https://colab.research.google.com/assets/colab-badge.svg\" alt=\"Open In Colab\"/></a>"
      ]
    },
    {
      "cell_type": "code",
      "execution_count": 56,
      "metadata": {
        "colab": {
          "base_uri": "https://localhost:8080/"
        },
        "id": "VSsjIZYSh7nf",
        "outputId": "435cc7aa-a1e2-4180-9d7f-04d0cdd48ef1"
      },
      "outputs": [
        {
          "output_type": "stream",
          "name": "stdout",
          "text": [
            "Requirement already satisfied: requests in /usr/local/lib/python3.10/dist-packages (2.31.0)\n",
            "Requirement already satisfied: charset-normalizer<4,>=2 in /usr/local/lib/python3.10/dist-packages (from requests) (3.2.0)\n",
            "Requirement already satisfied: idna<4,>=2.5 in /usr/local/lib/python3.10/dist-packages (from requests) (3.4)\n",
            "Requirement already satisfied: urllib3<3,>=1.21.1 in /usr/local/lib/python3.10/dist-packages (from requests) (2.0.4)\n",
            "Requirement already satisfied: certifi>=2017.4.17 in /usr/local/lib/python3.10/dist-packages (from requests) (2023.7.22)\n",
            "Requirement already satisfied: beautifulsoup4 in /usr/local/lib/python3.10/dist-packages (4.11.2)\n",
            "Requirement already satisfied: soupsieve>1.2 in /usr/local/lib/python3.10/dist-packages (from beautifulsoup4) (2.4.1)\n",
            "Requirement already satisfied: textblob in /usr/local/lib/python3.10/dist-packages (0.17.1)\n",
            "Requirement already satisfied: nltk>=3.1 in /usr/local/lib/python3.10/dist-packages (from textblob) (3.8.1)\n",
            "Requirement already satisfied: click in /usr/local/lib/python3.10/dist-packages (from nltk>=3.1->textblob) (8.1.6)\n",
            "Requirement already satisfied: joblib in /usr/local/lib/python3.10/dist-packages (from nltk>=3.1->textblob) (1.3.2)\n",
            "Requirement already satisfied: regex>=2021.8.3 in /usr/local/lib/python3.10/dist-packages (from nltk>=3.1->textblob) (2023.6.3)\n",
            "Requirement already satisfied: tqdm in /usr/local/lib/python3.10/dist-packages (from nltk>=3.1->textblob) (4.66.1)\n",
            "Requirement already satisfied: syllables in /usr/local/lib/python3.10/dist-packages (1.0.7)\n",
            "Requirement already satisfied: cmudict<2.0.0,>=1.0.11 in /usr/local/lib/python3.10/dist-packages (from syllables) (1.0.13)\n",
            "Requirement already satisfied: importlib-metadata<6.0.0,>=5.1.0 in /usr/local/lib/python3.10/dist-packages (from syllables) (5.2.0)\n",
            "Requirement already satisfied: importlib-resources<6.0.0,>=5.10.1 in /usr/local/lib/python3.10/dist-packages (from cmudict<2.0.0,>=1.0.11->syllables) (5.13.0)\n",
            "Requirement already satisfied: zipp>=0.5 in /usr/local/lib/python3.10/dist-packages (from importlib-metadata<6.0.0,>=5.1.0->syllables) (3.16.2)\n"
          ]
        }
      ],
      "source": [
        "!pip install requests\n",
        "!pip install beautifulsoup4\n",
        "!pip install textblob\n",
        "!pip install syllables"
      ]
    },
    {
      "cell_type": "code",
      "source": [
        "import requests\n",
        "from bs4 import BeautifulSoup\n",
        "from textblob import TextBlob\n",
        "import pandas as pd\n",
        "import nltk\n",
        "nltk.download('punkt')"
      ],
      "metadata": {
        "colab": {
          "base_uri": "https://localhost:8080/"
        },
        "id": "RLssXW04rG3U",
        "outputId": "a8dec028-ac91-4cbc-d126-8072ac98bcb6"
      },
      "execution_count": 57,
      "outputs": [
        {
          "output_type": "stream",
          "name": "stderr",
          "text": [
            "[nltk_data] Downloading package punkt to /root/nltk_data...\n",
            "[nltk_data]   Package punkt is already up-to-date!\n"
          ]
        },
        {
          "output_type": "execute_result",
          "data": {
            "text/plain": [
              "True"
            ]
          },
          "metadata": {},
          "execution_count": 57
        }
      ]
    },
    {
      "cell_type": "code",
      "source": [
        "input_df = pd.read_excel('/content/Input.xlsx')\n",
        "\n",
        "# Initialize a list to store analysis results\n",
        "my_dict = {};\n",
        "\n",
        "# Iterate through each row in the input DataFrame\n",
        "for index, row in input_df.iterrows():\n",
        "    my_dict[row['URL_ID']] = row['URL']\n"
      ],
      "metadata": {
        "id": "ygRd11Dkuorg"
      },
      "execution_count": 96,
      "outputs": []
    },
    {
      "cell_type": "code",
      "source": [
        "my_dict"
      ],
      "metadata": {
        "id": "HpplttN0sfh0",
        "outputId": "25269ee5-4289-4b63-9af2-77f07c1b2a30",
        "colab": {
          "base_uri": "https://localhost:8080/"
        }
      },
      "execution_count": 97,
      "outputs": [
        {
          "output_type": "execute_result",
          "data": {
            "text/plain": [
              "{123.0: 'https://insights.blackcoffer.com/rise-of-telemedicine-and-its-impact-on-livelihood-by-2040-3-2/',\n",
              " 321.0: 'https://insights.blackcoffer.com/rise-of-e-health-and-its-impact-on-humans-by-the-year-2030/',\n",
              " 2345.0: 'https://insights.blackcoffer.com/rise-of-e-health-and-its-imapct-on-humans-by-the-year-2030-2/',\n",
              " 4321.0: 'https://insights.blackcoffer.com/rise-of-telemedicine-and-its-impact-on-livelihood-by-2040-2/',\n",
              " 432.0: 'https://insights.blackcoffer.com/rise-of-telemedicine-and-its-impact-on-livelihood-by-2040-2-2/',\n",
              " 2893.8: 'https://insights.blackcoffer.com/rise-of-chatbots-and-its-impact-on-customer-support-by-the-year-2040/',\n",
              " 3355.6: 'https://insights.blackcoffer.com/rise-of-e-health-and-its-imapct-on-humans-by-the-year-2030/',\n",
              " 3817.4: 'https://insights.blackcoffer.com/how-does-marketing-influence-businesses-and-consumers/',\n",
              " 4279.2: 'https://insights.blackcoffer.com/how-advertisement-increase-your-market-value/',\n",
              " 4741.0: 'https://insights.blackcoffer.com/negative-effects-of-marketing-on-society/',\n",
              " 5202.8: 'https://insights.blackcoffer.com/how-advertisement-marketing-affects-business/',\n",
              " 5664.6: 'https://insights.blackcoffer.com/rising-it-cities-will-impact-the-economy-environment-infrastructure-and-city-life-by-the-year-2035/',\n",
              " 6126.4: 'https://insights.blackcoffer.com/rise-of-ott-platform-and-its-impact-on-entertainment-industry-by-the-year-2030/',\n",
              " 6588.2: 'https://insights.blackcoffer.com/rise-of-electric-vehicles-and-its-impact-on-livelihood-by-2040/',\n",
              " 7050.0: 'https://insights.blackcoffer.com/rise-of-electric-vehicle-and-its-impact-on-livelihood-by-the-year-2040/',\n",
              " 7511.8: 'https://insights.blackcoffer.com/oil-prices-by-the-year-2040-and-how-it-will-impact-the-world-economy/',\n",
              " 7973.6: 'https://insights.blackcoffer.com/an-outlook-of-healthcare-by-the-year-2040-and-how-it-will-impact-human-lives/',\n",
              " 8435.4: 'https://insights.blackcoffer.com/ai-in-healthcare-to-improve-patient-outcomes/',\n",
              " 8897.2: 'https://insights.blackcoffer.com/what-if-the-creation-is-taking-over-the-creator/',\n",
              " 9359.0: 'https://insights.blackcoffer.com/what-jobs-will-robots-take-from-humans-in-the-future/',\n",
              " 9820.8: 'https://insights.blackcoffer.com/will-machine-replace-the-human-in-the-future-of-work/',\n",
              " 10282.6: 'https://insights.blackcoffer.com/will-ai-replace-us-or-work-with-us/',\n",
              " 10744.4: 'https://insights.blackcoffer.com/man-and-machines-together-machines-are-more-diligent-than-humans-blackcoffe/',\n",
              " 11206.2: 'https://insights.blackcoffer.com/in-future-or-in-upcoming-years-humans-and-machines-are-going-to-work-together-in-every-field-of-work/',\n",
              " 11668.0: 'https://insights.blackcoffer.com/how-neural-networks-can-be-applied-in-various-areas-in-the-future/',\n",
              " 12129.8: 'https://insights.blackcoffer.com/how-machine-learning-will-affect-your-business/',\n",
              " 12591.6: 'https://insights.blackcoffer.com/deep-learning-impact-on-areas-of-e-learning/',\n",
              " 13053.4: 'https://insights.blackcoffer.com/how-to-protect-future-data-and-its-privacy-blackcoffer/',\n",
              " 13515.2: 'https://insights.blackcoffer.com/how-machines-ai-automations-and-robo-human-are-effective-in-finance-and-banking/',\n",
              " 13977.0: 'https://insights.blackcoffer.com/ai-human-robotics-machine-future-planet-blackcoffer-thinking-jobs-workplace/',\n",
              " 14438.8: 'https://insights.blackcoffer.com/how-ai-will-change-the-world-blackcoffer/',\n",
              " 14900.6: 'https://insights.blackcoffer.com/future-of-work-how-ai-has-entered-the-workplace/',\n",
              " 15362.4: 'https://insights.blackcoffer.com/ai-tool-alexa-google-assistant-finance-banking-tool-future/',\n",
              " 15824.2: 'https://insights.blackcoffer.com/ai-healthcare-revolution-ml-technology-algorithm-google-analytics-industrialrevolution/',\n",
              " 16286.0: 'https://insights.blackcoffer.com/all-you-need-to-know-about-online-marketing/',\n",
              " 16747.8: 'https://insights.blackcoffer.com/evolution-of-advertising-industry/',\n",
              " 17209.6: 'https://insights.blackcoffer.com/how-data-analytics-can-help-your-business-respond-to-the-impact-of-covid-19/',\n",
              " 17671.4: 'https://insights.blackcoffer.com/covid-19-environmental-impact-for-the-future/',\n",
              " 18133.2: 'https://insights.blackcoffer.com/environmental-impact-of-the-covid-19-pandemic-lesson-for-the-future/',\n",
              " 18595.0: 'https://insights.blackcoffer.com/how-data-analytics-and-ai-are-used-to-halt-the-covid-19-pandemic/',\n",
              " 19056.8: 'https://insights.blackcoffer.com/difference-between-artificial-intelligence-machine-learning-statistics-and-data-mining/',\n",
              " 19518.6: 'https://insights.blackcoffer.com/how-python-became-the-first-choice-for-data-science/',\n",
              " 19980.4: 'https://insights.blackcoffer.com/how-google-fit-measure-heart-and-respiratory-rates-using-a-phone/',\n",
              " 20442.2: 'https://insights.blackcoffer.com/what-is-the-future-of-mobile-apps/',\n",
              " 20904.0: 'https://insights.blackcoffer.com/impact-of-ai-in-health-and-medicine/',\n",
              " 21365.8: 'https://insights.blackcoffer.com/telemedicine-what-patients-like-and-dislike-about-it/',\n",
              " 21827.6: 'https://insights.blackcoffer.com/how-we-forecast-future-technologies/',\n",
              " 22289.4: 'https://insights.blackcoffer.com/can-robots-tackle-late-life-loneliness/',\n",
              " 22751.2: 'https://insights.blackcoffer.com/embedding-care-robots-into-society-socio-technical-considerations/',\n",
              " 23213.0: 'https://insights.blackcoffer.com/management-challenges-for-future-digitalization-of-healthcare-services/',\n",
              " 23674.8: 'https://insights.blackcoffer.com/are-we-any-closer-to-preventing-a-nuclear-holocaust/',\n",
              " 24136.6: 'https://insights.blackcoffer.com/will-technology-eliminate-the-need-for-animal-testing-in-drug-development/',\n",
              " 24598.4: 'https://insights.blackcoffer.com/will-we-ever-understand-the-nature-of-consciousness/',\n",
              " 25060.2: 'https://insights.blackcoffer.com/will-we-ever-colonize-outer-space/',\n",
              " 25522.0: 'https://insights.blackcoffer.com/what-is-the-chance-homo-sapiens-will-survive-for-the-next-500-years/',\n",
              " 25983.8: 'https://insights.blackcoffer.com/why-does-your-business-need-a-chatbot/',\n",
              " 26445.6: 'https://insights.blackcoffer.com/how-you-lead-a-project-or-a-team-without-any-technical-expertise/',\n",
              " 26907.4: 'https://insights.blackcoffer.com/can-you-be-great-leader-without-technical-expertise/',\n",
              " 27369.2: 'https://insights.blackcoffer.com/how-does-artificial-intelligence-affect-the-environment/',\n",
              " 27831.0: 'https://insights.blackcoffer.com/how-to-overcome-your-fear-of-making-mistakes-2/',\n",
              " 28292.8: 'https://insights.blackcoffer.com/is-perfection-the-greatest-enemy-of-productivity/',\n",
              " 28754.6: 'https://insights.blackcoffer.com/global-financial-crisis-2008-causes-effects-and-its-solution/',\n",
              " 29216.4: 'https://insights.blackcoffer.com/gender-diversity-and-equality-in-the-tech-industry/',\n",
              " 29678.2: 'https://insights.blackcoffer.com/how-to-overcome-your-fear-of-making-mistakes/',\n",
              " 30140.0: 'https://insights.blackcoffer.com/how-small-business-can-survive-the-coronavirus-crisis/',\n",
              " 30601.8: 'https://insights.blackcoffer.com/impacts-of-covid-19-on-vegetable-vendors-and-food-stalls/',\n",
              " 31063.6: 'https://insights.blackcoffer.com/impacts-of-covid-19-on-vegetable-vendors/',\n",
              " 31525.4: 'https://insights.blackcoffer.com/impact-of-covid-19-pandemic-on-tourism-aviation-industries/',\n",
              " 31987.2: 'https://insights.blackcoffer.com/impact-of-covid-19-pandemic-on-sports-events-around-the-world/',\n",
              " 32449.0: 'https://insights.blackcoffer.com/changing-landscape-and-emerging-trends-in-the-indian-it-ites-industry/',\n",
              " 32910.8: 'https://insights.blackcoffer.com/online-gaming-adolescent-online-gaming-effects-demotivated-depression-musculoskeletal-and-psychosomatic-symptoms/',\n",
              " 33372.6: 'https://insights.blackcoffer.com/human-rights-outlook/',\n",
              " 33834.4: 'https://insights.blackcoffer.com/how-voice-search-makes-your-business-a-successful-business/',\n",
              " 34296.2: 'https://insights.blackcoffer.com/how-the-covid-19-crisis-is-redefining-jobs-and-services/',\n",
              " 34758.0: 'https://insights.blackcoffer.com/how-to-increase-social-media-engagement-for-marketers/',\n",
              " 35219.8: 'https://insights.blackcoffer.com/impacts-of-covid-19-on-streets-sides-food-stalls/',\n",
              " 35681.6: 'https://insights.blackcoffer.com/coronavirus-impact-on-energy-markets-2/',\n",
              " 36143.4: 'https://insights.blackcoffer.com/coronavirus-impact-on-the-hospitality-industry-5/',\n",
              " 36605.2: 'https://insights.blackcoffer.com/lessons-from-the-past-some-key-learnings-relevant-to-the-coronavirus-crisis-4/',\n",
              " 37067.0: 'https://insights.blackcoffer.com/estimating-the-impact-of-covid-19-on-the-world-of-work-2/',\n",
              " 37528.8: 'https://insights.blackcoffer.com/estimating-the-impact-of-covid-19-on-the-world-of-work-3/',\n",
              " 37990.6: 'https://insights.blackcoffer.com/travel-and-tourism-outlook/',\n",
              " 38452.4: 'https://insights.blackcoffer.com/gaming-disorder-and-effects-of-gaming-on-health/',\n",
              " 38914.2: 'https://insights.blackcoffer.com/what-is-the-repercussion-of-the-environment-due-to-the-covid-19-pandemic-situation/',\n",
              " 39376.0: 'https://insights.blackcoffer.com/what-is-the-repercussion-of-the-environment-due-to-the-covid-19-pandemic-situation-2/',\n",
              " 39837.8: 'https://insights.blackcoffer.com/impact-of-covid-19-pandemic-on-office-space-and-co-working-industries/',\n",
              " 40299.6: 'https://insights.blackcoffer.com/contribution-of-handicrafts-visual-arts-literature-in-the-indian-economy/',\n",
              " 40761.4: 'https://insights.blackcoffer.com/how-covid-19-is-impacting-payment-preferences/',\n",
              " 41223.2: 'https://insights.blackcoffer.com/how-will-covid-19-affect-the-world-of-work-2/',\n",
              " 41685.0: 'https://insights.blackcoffer.com/lessons-from-the-past-some-key-learnings-relevant-to-the-coronavirus-crisis/',\n",
              " 42146.8: 'https://insights.blackcoffer.com/covid-19-how-have-countries-been-responding/',\n",
              " 42608.6: 'https://insights.blackcoffer.com/coronavirus-impact-on-the-hospitality-industry-2/',\n",
              " 43070.4: 'https://insights.blackcoffer.com/how-will-covid-19-affect-the-world-of-work-3/',\n",
              " 43532.2: 'https://insights.blackcoffer.com/coronavirus-impact-on-the-hospitality-industry-3/',\n",
              " 43994.0: 'https://insights.blackcoffer.com/estimating-the-impact-of-covid-19-on-the-world-of-work/',\n",
              " 44455.8: 'https://insights.blackcoffer.com/covid-19-how-have-countries-been-responding-2/',\n",
              " 44917.6: 'https://insights.blackcoffer.com/how-will-covid-19-affect-the-world-of-work-4/',\n",
              " 45379.4: 'https://insights.blackcoffer.com/lessons-from-the-past-some-key-learnings-relevant-to-the-coronavirus-crisis-2/',\n",
              " 45841.2: 'https://insights.blackcoffer.com/lessons-from-the-past-some-key-learnings-relevant-to-the-coronavirus-crisis-3/',\n",
              " 46303.0: 'https://insights.blackcoffer.com/coronavirus-impact-on-the-hospitality-industry-4/',\n",
              " 46764.8: 'https://insights.blackcoffer.com/why-scams-like-nirav-modi-happen-with-indian-banks/',\n",
              " 47226.6: 'https://insights.blackcoffer.com/impact-of-covid-19-on-the-global-economy/',\n",
              " 47688.4: 'https://insights.blackcoffer.com/impact-of-covid-19coronavirus-on-the-indian-economy-2/',\n",
              " 48150.2: 'https://insights.blackcoffer.com/impact-of-covid-19-on-the-global-economy-2/',\n",
              " 48612.0: 'https://insights.blackcoffer.com/impact-of-covid-19-coronavirus-on-the-indian-economy-3/',\n",
              " 49073.8: 'https://insights.blackcoffer.com/should-celebrities-be-allowed-to-join-politics/',\n",
              " 49535.6: 'https://insights.blackcoffer.com/how-prepared-is-india-to-tackle-a-possible-covid-19-outbreak/',\n",
              " 49997.4: 'https://insights.blackcoffer.com/how-will-covid-19-affect-the-world-of-work/',\n",
              " 50459.2: 'https://insights.blackcoffer.com/controversy-as-a-marketing-strategy/',\n",
              " 50921.0: 'https://insights.blackcoffer.com/coronavirus-impact-on-the-hospitality-industry/',\n",
              " 51382.8: 'https://insights.blackcoffer.com/coronavirus-impact-on-energy-markets/',\n",
              " 51844.6: 'https://insights.blackcoffer.com/what-are-the-key-policies-that-will-mitigate-the-impacts-of-covid-19-on-the-world-of-work/',\n",
              " 52306.4: 'https://insights.blackcoffer.com/marketing-drives-results-with-a-focus-on-problems/',\n",
              " 52768.2: 'https://insights.blackcoffer.com/continued-demand-for-sustainability/'}"
            ]
          },
          "metadata": {},
          "execution_count": 97
        }
      ]
    },
    {
      "cell_type": "code",
      "source": [
        "article_title = []\n",
        "\n",
        "article_text = []\n",
        "def extract_article_text(link):\n",
        "    response = requests.get(link)\n",
        "    soup = BeautifulSoup(response.content, 'html.parser')\n",
        "\n",
        "    # Find and extract the article title and text\n",
        "    article_title.append(soup.find('title').get_text())\n",
        "    article_text_p = \"\"\n",
        "    paragraphs = soup.find_all(['p', 'div'])  # Adjust based on the actual structure\n",
        "    for p in paragraphs:\n",
        "        article_text_p += p.get_text()\n",
        "    article_text.append(article_text_p)\n",
        "\n",
        "    return article_title, article_text"
      ],
      "metadata": {
        "id": "o8_rAGx-mrZt"
      },
      "execution_count": 102,
      "outputs": []
    },
    {
      "cell_type": "code",
      "source": [
        "for link in my_dict.values():\n",
        "    article_title, article_text = extract_article_text(link)"
      ],
      "metadata": {
        "id": "2hVJqLKls2Jy"
      },
      "execution_count": 103,
      "outputs": []
    },
    {
      "cell_type": "code",
      "source": [
        "# Perform text analysis using TextBlob\n",
        "for at in article_text:\n",
        "  b = TextBlob(at)\n",
        "  positive_score = b.sentiment.polarity\n",
        "  negative_score = b.sentiment.polarity\n",
        "  polarity_score = b.sentiment.polarity\n",
        "  subjectivity_score = b.sentiment.subjectivity\n",
        "  avg_sentence_length = len(b.words) / len(b.sentences)\n",
        "\n"
      ],
      "metadata": {
        "id": "HTvwtjMZvbY3"
      },
      "execution_count": 86,
      "outputs": []
    },
    {
      "cell_type": "code",
      "source": [
        "positive_score\n"
      ],
      "metadata": {
        "id": "PuQ7pCE0wMLW",
        "outputId": "6121bcd8-b8a2-4c43-af75-9d69c4875fbe",
        "colab": {
          "base_uri": "https://localhost:8080/"
        }
      },
      "execution_count": 87,
      "outputs": [
        {
          "output_type": "execute_result",
          "data": {
            "text/plain": [
              "0.11157755679931351"
            ]
          },
          "metadata": {},
          "execution_count": 87
        }
      ]
    },
    {
      "cell_type": "code",
      "source": [
        "import re\n",
        "def count_syllables(word):\n",
        "    # Convert the word to lowercase\n",
        "    word = word.lower()\n",
        "\n",
        "    # Define a regular expression to match consecutive vowels\n",
        "    # but not ending with 'e'\n",
        "    pattern = '(?!e$)[aeiouy]+'\n",
        "\n",
        "    # Find all matches of the pattern in the word\n",
        "    matches = re.findall(pattern, word, re.I)\n",
        "\n",
        "    # Return the count of matches (syllables)\n",
        "    return len(matches)\n",
        "\n",
        "# Example usage\n",
        "word = \"syllable\"\n",
        "syllable_count = count_syllables(word)"
      ],
      "metadata": {
        "id": "6BXzgTdw-JdV"
      },
      "execution_count": 79,
      "outputs": []
    },
    {
      "cell_type": "code",
      "source": [
        "def count_complex_words(b):\n",
        "    complex_word_count = sum(1 for word in b.words if syllable_count >= 3)\n",
        "    return complex_word_count\n",
        "\n",
        "\n"
      ],
      "metadata": {
        "id": "vry_G8fY4eCH"
      },
      "execution_count": 80,
      "outputs": []
    },
    {
      "cell_type": "code",
      "source": [
        "complex_word_count = count_complex_words(b)"
      ],
      "metadata": {
        "id": "aHg6dEnZBPgw"
      },
      "execution_count": 81,
      "outputs": []
    },
    {
      "cell_type": "code",
      "source": [
        "percentage_complex_words = (complex_word_count / len(b.words)) * 100\n",
        "\n"
      ],
      "metadata": {
        "id": "DpPhbTSP4jg3"
      },
      "execution_count": 82,
      "outputs": []
    },
    {
      "cell_type": "code",
      "source": [
        "fog_index = 0.4 * (avg_sentence_length + percentage_complex_words)\n"
      ],
      "metadata": {
        "id": "_PBXT008BLbw"
      },
      "execution_count": 83,
      "outputs": []
    },
    {
      "cell_type": "code",
      "source": [
        "avg_words_per_sentence = len(b.words) / len(b.sentences)\n"
      ],
      "metadata": {
        "id": "yML5WphYBTck"
      },
      "execution_count": 84,
      "outputs": []
    },
    {
      "cell_type": "code",
      "source": [
        "word_count = len(b.words)"
      ],
      "metadata": {
        "id": "N4mB5gGHBc15"
      },
      "execution_count": null,
      "outputs": []
    },
    {
      "cell_type": "code",
      "source": [
        "avg_syllables_per_word = syllable_count / word_count"
      ],
      "metadata": {
        "id": "MZ-fo5VnBu-X"
      },
      "execution_count": null,
      "outputs": []
    },
    {
      "cell_type": "code",
      "source": [
        "personal_pronoun_count = sum(1 for word in b.words if word.lower() in ['i', 'you', 'he', 'she', 'we', 'they'])"
      ],
      "metadata": {
        "id": "-gf9JoRUB8qx"
      },
      "execution_count": null,
      "outputs": []
    },
    {
      "cell_type": "code",
      "source": [
        "avg_word_length = sum(len(word) for word in b.words) / word_count"
      ],
      "metadata": {
        "id": "AYg6O6VBDBcj"
      },
      "execution_count": null,
      "outputs": []
    },
    {
      "cell_type": "code",
      "source": [
        "results = []"
      ],
      "metadata": {
        "id": "B5fvhsNZzM-n"
      },
      "execution_count": null,
      "outputs": []
    },
    {
      "cell_type": "code",
      "source": [
        "result = {\n",
        "        'URL_ID': url_id,\n",
        "        'POSITIVE SCORE': positive_score,\n",
        "        'NEGATIVE SCORE': negative_score,\n",
        "        'POLARITY SCORE': polarity_score,\n",
        "        'SUBJECTIVITY SCORE': subjectivity_score,\n",
        "        'AVG SENTENCE LENGTH': avg_sentence_length,\n",
        "        'PERCENTAGE OF COMPLEX WORDS': percentage_complex_words,\n",
        "        'FOG INDEX':fog_index,\n",
        "        'AVG NUMBER OF WORDS PER SENTENCE' :avg_words_per_sentence,\n",
        "        'COMPLEX WORD COUNT': complex_word_count,\n",
        "        'WORD COUNT': word_count,\n",
        "        'SYLLABLE PER WORD': avg_syllables_per_word,\n",
        "        'PERSONAL PRONOUNS': personal_pronoun_count,\n",
        "        'AVG WORD LENGTH': avg_word_length\n",
        "    }\n",
        "results.append(result)"
      ],
      "metadata": {
        "id": "gio9dFoexfG2"
      },
      "execution_count": null,
      "outputs": []
    },
    {
      "cell_type": "code",
      "source": [
        "output_df = pd.DataFrame(results)"
      ],
      "metadata": {
        "id": "s3VMrglsyPUj"
      },
      "execution_count": null,
      "outputs": []
    },
    {
      "cell_type": "code",
      "source": [
        "output_df.to_excel('output.xlsx', index=False)"
      ],
      "metadata": {
        "id": "ZfVgswe9zZ_U"
      },
      "execution_count": null,
      "outputs": []
    },
    {
      "cell_type": "code",
      "source": [],
      "metadata": {
        "id": "hjhS912Yzefs"
      },
      "execution_count": null,
      "outputs": []
    },
    {
      "cell_type": "code",
      "source": [],
      "metadata": {
        "id": "_Arn-TRWFU-Y"
      },
      "execution_count": null,
      "outputs": []
    },
    {
      "cell_type": "code",
      "source": [],
      "metadata": {
        "id": "eWUabfElEunQ"
      },
      "execution_count": null,
      "outputs": []
    },
    {
      "cell_type": "markdown",
      "source": [
        "# New Section"
      ],
      "metadata": {
        "id": "zewZGq6mE7FI"
      }
    },
    {
      "cell_type": "code",
      "source": [],
      "metadata": {
        "id": "uwKzen2yE-uB"
      },
      "execution_count": null,
      "outputs": []
    }
  ]
}