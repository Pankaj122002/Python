{
  "nbformat": 4,
  "nbformat_minor": 0,
  "metadata": {
    "colab": {
      "provenance": [],
      "authorship_tag": "ABX9TyPozqU0XtIFU1PFeXQktpEO",
      "include_colab_link": true
    },
    "kernelspec": {
      "name": "python3",
      "display_name": "Python 3"
    },
    "language_info": {
      "name": "python"
    }
  },
  "cells": [
    {
      "cell_type": "markdown",
      "metadata": {
        "id": "view-in-github",
        "colab_type": "text"
      },
      "source": [
        "<a href=\"https://colab.research.google.com/github/Pankaj122002/Python/blob/main/Text_Analysis(Web_scraping).ipynb\" target=\"_parent\"><img src=\"https://colab.research.google.com/assets/colab-badge.svg\" alt=\"Open In Colab\"/></a>"
      ]
    },
    {
      "cell_type": "code",
      "execution_count": 67,
      "metadata": {
        "colab": {
          "base_uri": "https://localhost:8080/"
        },
        "id": "VSsjIZYSh7nf",
        "outputId": "ff6657f3-3075-49bb-da95-8a4cff91ea42"
      },
      "outputs": [
        {
          "output_type": "stream",
          "name": "stdout",
          "text": [
            "Requirement already satisfied: requests in /usr/local/lib/python3.10/dist-packages (2.31.0)\n",
            "Requirement already satisfied: charset-normalizer<4,>=2 in /usr/local/lib/python3.10/dist-packages (from requests) (3.2.0)\n",
            "Requirement already satisfied: idna<4,>=2.5 in /usr/local/lib/python3.10/dist-packages (from requests) (3.4)\n",
            "Requirement already satisfied: urllib3<3,>=1.21.1 in /usr/local/lib/python3.10/dist-packages (from requests) (2.0.4)\n",
            "Requirement already satisfied: certifi>=2017.4.17 in /usr/local/lib/python3.10/dist-packages (from requests) (2023.7.22)\n",
            "Requirement already satisfied: beautifulsoup4 in /usr/local/lib/python3.10/dist-packages (4.11.2)\n",
            "Requirement already satisfied: soupsieve>1.2 in /usr/local/lib/python3.10/dist-packages (from beautifulsoup4) (2.4.1)\n",
            "Requirement already satisfied: textblob in /usr/local/lib/python3.10/dist-packages (0.17.1)\n",
            "Requirement already satisfied: nltk>=3.1 in /usr/local/lib/python3.10/dist-packages (from textblob) (3.8.1)\n",
            "Requirement already satisfied: click in /usr/local/lib/python3.10/dist-packages (from nltk>=3.1->textblob) (8.1.6)\n",
            "Requirement already satisfied: joblib in /usr/local/lib/python3.10/dist-packages (from nltk>=3.1->textblob) (1.3.2)\n",
            "Requirement already satisfied: regex>=2021.8.3 in /usr/local/lib/python3.10/dist-packages (from nltk>=3.1->textblob) (2023.6.3)\n",
            "Requirement already satisfied: tqdm in /usr/local/lib/python3.10/dist-packages (from nltk>=3.1->textblob) (4.66.1)\n",
            "Requirement already satisfied: syllables in /usr/local/lib/python3.10/dist-packages (1.0.7)\n",
            "Requirement already satisfied: cmudict<2.0.0,>=1.0.11 in /usr/local/lib/python3.10/dist-packages (from syllables) (1.0.13)\n",
            "Requirement already satisfied: importlib-metadata<6.0.0,>=5.1.0 in /usr/local/lib/python3.10/dist-packages (from syllables) (5.2.0)\n",
            "Requirement already satisfied: importlib-resources<6.0.0,>=5.10.1 in /usr/local/lib/python3.10/dist-packages (from cmudict<2.0.0,>=1.0.11->syllables) (5.13.0)\n",
            "Requirement already satisfied: zipp>=0.5 in /usr/local/lib/python3.10/dist-packages (from importlib-metadata<6.0.0,>=5.1.0->syllables) (3.16.2)\n"
          ]
        }
      ],
      "source": [
        "!pip install requests\n",
        "!pip install beautifulsoup4\n",
        "!pip install textblob\n",
        "!pip install syllables"
      ]
    },
    {
      "cell_type": "code",
      "source": [
        "import requests\n",
        "from bs4 import BeautifulSoup\n",
        "from textblob import TextBlob\n",
        "import pandas as pd\n",
        "import nltk\n",
        "nltk.download('punkt')"
      ],
      "metadata": {
        "colab": {
          "base_uri": "https://localhost:8080/"
        },
        "id": "RLssXW04rG3U",
        "outputId": "7813f8b0-4648-414f-e2d6-43980cf74ae2"
      },
      "execution_count": 68,
      "outputs": [
        {
          "output_type": "stream",
          "name": "stderr",
          "text": [
            "[nltk_data] Downloading package punkt to /root/nltk_data...\n",
            "[nltk_data]   Package punkt is already up-to-date!\n"
          ]
        },
        {
          "output_type": "execute_result",
          "data": {
            "text/plain": [
              "True"
            ]
          },
          "metadata": {},
          "execution_count": 68
        }
      ]
    },
    {
      "cell_type": "code",
      "source": [
        "def extract_article_text(url):\n",
        "    response = requests.get(url)\n",
        "    soup = BeautifulSoup(response.content, 'html.parser')\n",
        "\n",
        "    # Find and extract the article title and text\n",
        "    article_title = soup.find('title').get_text()\n",
        "    article_text = \"\"\n",
        "    paragraphs = soup.find_all(['p', 'div'])  # Adjust based on the actual structure\n",
        "    for p in paragraphs:\n",
        "        article_text += p.get_text()\n",
        "\n",
        "    return article_title, article_text"
      ],
      "metadata": {
        "id": "2hVJqLKls2Jy"
      },
      "execution_count": 69,
      "outputs": []
    },
    {
      "cell_type": "code",
      "source": [
        "input_df = pd.read_excel('/content/Input.xlsx')\n",
        "\n",
        "# Initialize a list to store analysis results\n",
        "results = []\n",
        "\n",
        "# Iterate through each row in the input DataFrame\n",
        "for index, row in input_df.iterrows():\n",
        "    url_id = row['URL_ID']\n",
        "    url = row['URL']\n",
        ""
      ],
      "metadata": {
        "id": "ygRd11Dkuorg"
      },
      "execution_count": 70,
      "outputs": []
    },
    {
      "cell_type": "code",
      "source": [
        "article_title, article_text = extract_article_text(url)\n",
        "\n",
        ""
      ],
      "metadata": {
        "id": "V3wjq7l7uxUY"
      },
      "execution_count": 71,
      "outputs": []
    },
    {
      "cell_type": "code",
      "source": [
        "# Perform text analysis using TextBlob\n",
        "b = TextBlob(article_text)\n",
        "\n",
        ""
      ],
      "metadata": {
        "id": "HTvwtjMZvbY3"
      },
      "execution_count": 72,
      "outputs": []
    },
    {
      "cell_type": "code",
      "source": [
        "positive_score = b.sentiment.polarity\n",
        "negative_score = b.sentiment.polarity\n",
        "polarity_score = b.sentiment.polarity\n",
        "subjectivity_score = b.sentiment.subjectivity\n",
        "avg_sentence_length = len(b.words) / len(b.sentences)\n"
      ],
      "metadata": {
        "id": "PuQ7pCE0wMLW"
      },
      "execution_count": 73,
      "outputs": []
    },
    {
      "cell_type": "code",
      "source": [
        "import re\n",
        "def count_syllables(word):\n",
        "    # Convert the word to lowercase\n",
        "    word = word.lower()\n",
        "\n",
        "    # Define a regular expression to match consecutive vowels\n",
        "    # but not ending with 'e'\n",
        "    pattern = '(?!e$)[aeiouy]+'\n",
        "\n",
        "    # Find all matches of the pattern in the word\n",
        "    matches = re.findall(pattern, word, re.I)\n",
        "\n",
        "    # Return the count of matches (syllables)\n",
        "    return len(matches)\n",
        "\n",
        "# Example usage\n",
        "word = \"syllable\"\n",
        "syllable_count = count_syllables(word)"
      ],
      "metadata": {
        "id": "6BXzgTdw-JdV"
      },
      "execution_count": 95,
      "outputs": []
    },
    {
      "cell_type": "code",
      "source": [
        "def count_complex_words(b):\n",
        "    complex_word_count = sum(1 for word in b.words if syllable_count >= 3)\n",
        "    return complex_word_count\n",
        "\n",
        "\n"
      ],
      "metadata": {
        "id": "vry_G8fY4eCH"
      },
      "execution_count": 106,
      "outputs": []
    },
    {
      "cell_type": "code",
      "source": [
        "complex_word_count = count_complex_words(b)"
      ],
      "metadata": {
        "id": "aHg6dEnZBPgw"
      },
      "execution_count": 111,
      "outputs": []
    },
    {
      "cell_type": "code",
      "source": [
        "percentage_complex_words = (complex_word_count / len(b.words)) * 100\n",
        "\n"
      ],
      "metadata": {
        "id": "DpPhbTSP4jg3"
      },
      "execution_count": 110,
      "outputs": []
    },
    {
      "cell_type": "code",
      "source": [
        "fog_index = 0.4 * (avg_sentence_length + percentage_complex_words)\n"
      ],
      "metadata": {
        "id": "_PBXT008BLbw"
      },
      "execution_count": 112,
      "outputs": []
    },
    {
      "cell_type": "code",
      "source": [
        "avg_words_per_sentence = len(b.words) / len(b.sentences)\n"
      ],
      "metadata": {
        "id": "yML5WphYBTck"
      },
      "execution_count": 113,
      "outputs": []
    },
    {
      "cell_type": "code",
      "source": [
        "word_count = len(b.words)"
      ],
      "metadata": {
        "id": "N4mB5gGHBc15"
      },
      "execution_count": 114,
      "outputs": []
    },
    {
      "cell_type": "code",
      "source": [
        "avg_syllables_per_word = syllable_count / word_count"
      ],
      "metadata": {
        "id": "MZ-fo5VnBu-X"
      },
      "execution_count": 116,
      "outputs": []
    },
    {
      "cell_type": "code",
      "source": [
        "personal_pronoun_count = sum(1 for word in b.words if word.lower() in ['i', 'you', 'he', 'she', 'we', 'they'])"
      ],
      "metadata": {
        "id": "-gf9JoRUB8qx"
      },
      "execution_count": 118,
      "outputs": []
    },
    {
      "cell_type": "code",
      "source": [
        "avg_word_length = sum(len(word) for word in b.words) / word_count"
      ],
      "metadata": {
        "id": "AYg6O6VBDBcj"
      },
      "execution_count": 119,
      "outputs": []
    },
    {
      "cell_type": "code",
      "source": [
        "results = []"
      ],
      "metadata": {
        "id": "B5fvhsNZzM-n"
      },
      "execution_count": 75,
      "outputs": []
    },
    {
      "cell_type": "code",
      "source": [
        "result = {\n",
        "        'URL_ID': url_id,\n",
        "        'POSITIVE SCORE': positive_score,\n",
        "        'NEGATIVE SCORE': negative_score,\n",
        "        'POLARITY SCORE': polarity_score,\n",
        "        'SUBJECTIVITY SCORE': subjectivity_score,\n",
        "        'AVG SENTENCE LENGTH': avg_sentence_length,\n",
        "        'PERCENTAGE OF COMPLEX WORDS': percentage_complex_words,\n",
        "        'FOG INDEX':fog_index,\n",
        "        'AVG NUMBER OF WORDS PER SENTENCE' :avg_words_per_sentence,\n",
        "        'COMPLEX WORD COUNT': complex_word_count,\n",
        "        'WORD COUNT': word_count,\n",
        "        'SYLLABLE PER WORD': avg_syllables_per_word,\n",
        "        'PERSONAL PRONOUNS': personal_pronoun_count,\n",
        "        'AVG WORD LENGTH': avg_word_length\n",
        "    }\n",
        "results.append(result)"
      ],
      "metadata": {
        "id": "gio9dFoexfG2"
      },
      "execution_count": 120,
      "outputs": []
    },
    {
      "cell_type": "code",
      "source": [
        "output_df = pd.DataFrame(results)"
      ],
      "metadata": {
        "id": "s3VMrglsyPUj"
      },
      "execution_count": 121,
      "outputs": []
    },
    {
      "cell_type": "code",
      "source": [
        "output_df.to_excel('output.xlsx', index=False)"
      ],
      "metadata": {
        "id": "ZfVgswe9zZ_U"
      },
      "execution_count": 123,
      "outputs": []
    },
    {
      "cell_type": "code",
      "source": [],
      "metadata": {
        "id": "hjhS912Yzefs"
      },
      "execution_count": 78,
      "outputs": []
    },
    {
      "cell_type": "code",
      "source": [
        "from google.colab import drive\n",
        "drive.mount('/content/drive')"
      ],
      "metadata": {
        "id": "_Arn-TRWFU-Y"
      },
      "execution_count": null,
      "outputs": []
    },
    {
      "cell_type": "code",
      "source": [],
      "metadata": {
        "id": "eWUabfElEunQ"
      },
      "execution_count": null,
      "outputs": []
    },
    {
      "cell_type": "markdown",
      "source": [
        "# New Section"
      ],
      "metadata": {
        "id": "zewZGq6mE7FI"
      }
    },
    {
      "cell_type": "code",
      "source": [],
      "metadata": {
        "id": "uwKzen2yE-uB"
      },
      "execution_count": null,
      "outputs": []
    }
  ]
}